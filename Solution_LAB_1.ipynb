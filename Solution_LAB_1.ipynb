{
 "cells": [
  {
   "cell_type": "markdown",
   "metadata": {},
   "source": [
    "# Solution to the lab 1\n",
    "In this notebook, we use the following modules `numpy` and `maze`. The latter is a home made module, where all the solutions to the questions are implemented. We will refer to it at each answer, and we encourage you to read it."
   ]
  },
  {
   "cell_type": "code",
   "execution_count": 1,
   "metadata": {},
   "outputs": [],
   "source": [
    "import numpy as np\n",
    "import maze_lab1 as mz \n",
    "import pandas as pd"
   ]
  },
  {
   "cell_type": "markdown",
   "metadata": {},
   "source": [
    "# Problem 1: Shortest path in the maze\n",
    "\n",
    "The objective of problem 1 is to solve the shortest path problem in a maze. We start first by describing the maze as a numpy array. "
   ]
  },
  {
   "cell_type": "code",
   "execution_count": null,
   "metadata": {},
   "outputs": [],
   "source": []
  },
  {
   "cell_type": "markdown",
   "metadata": {},
   "source": [
    "## MDP formulation\n",
    "\n",
    "We propose the following MDP formulation: \n",
    "\n",
    "#### State space $\\mathcal{S}$\n",
    "We model the state space separately for the human player and the minotaur in the maze. We have excluded the positions where the walls are located from the possible states of the human player. However, since the minotaur is capable of going through the wall, we defined the minotaur states as all possible positions in the maze. Formally, the state space is\n",
    "\n",
    "$$\\mathcal{S_{player}} = \\big\\lbrace (x,y):\\textrm{such that the cell\n",
    "} (x,y) \\textrm{ is not an obstacle}\\big\\rbrace$$\n",
    "\n",
    "$$\\mathcal{S_{minotaur}} = \\big\\lbrace (x,y)\\big\\rbrace$$\n",
    "\n",
    "\n",
    "#### Action space $\\mathcal{A}$\n",
    "We allow the player to chose to either move `left`, `right`, `down`, `up` or not move at all (`stay`). Note that sometimes the player cannot move in a certain direction because of an obstacle or a wall, yet we permit this to be action. We will see that this is not an issue as long as we define our transition probabilities and rewards appropriately. We also define the action space of minotaur similarly. However, we do permit the move through the wall in this case. \n",
    "Formally, the action space is\n",
    "\n",
    "$$\\mathcal{A_{player}} = \\lbrace \\textrm{up}, \\textrm{ down}, \\textrm{ left}, \\textrm{ right}, \\textrm{ stay} \\rbrace$$\n",
    "\n",
    "$$\\mathcal{A_{minotaur}} = \\lbrace \\textrm{up}, \\textrm{ down}, \\textrm{ left}, \\textrm{ right}, \\textrm{ stay} \\rbrace$$\n",
    "\n",
    "\n",
    "#### Transition probabilities $\\mathcal{P}$\n",
    "Note that there is no randomness involved upon taking an action by the player. As a consequence, the transition probabilities are deterministic. More precisely,   \n",
    "- If at state (or position) $s$ taking action (or move) $a$ does not lead to a wall or an obstacle but to another state (or position) $s'$, then $\\mathbb{P}(s' \\vert s, a) = 1$. \n",
    "- If at state (or position)  $s$ taking action (or move) $a$ leads to a wall or an obstacle, the player remains in his state (or position) $s$, then $\\mathbb{P}(s \\vert s, a) = 1$.\n",
    "- If the state (or position) $s_{player}$ is the same as $s_{minotaur}$, then the player will be caught by the minotaur, $\\mathbb{P}(s_{player} \\vert s_{player} = s_{minotaur}, a) = 0$.\n",
    "\n",
    "\n",
    "#### Rewards $\\mathcal{R}$\n",
    "The objective of the player is to find the exit of the maze while avoiding the obstacles.\n",
    "   - If at state $s$, taking action $a$, leads to be caught by the minotaur, then $r(s,a) = -200$\n",
    "   - If at state $s$, taking action $a$, leads to a wall or an obstacle then $r(s,a) = -100$\n",
    "   - If at state $s$, taking action $a$, leads to some other position in the maze that is not the exit nor a wall nor an obstacle, then $r(s, a) = -1$. \n",
    "   - If at state $s$, taking action $a$, leads to the exit then $r(s ,a) = 0$. \n",
    "\n",
    " "
   ]
  },
  {
   "cell_type": "code",
   "execution_count": 2,
   "metadata": {},
   "outputs": [],
   "source": [
    "maze = np.array([\n",
    "    [0, 0, 1, 0, 0, 0, 0, 0],\n",
    "    [0, 0, 1, 0, 0, 1, 0, 0],\n",
    "    [0, 0, 1, 0, 0, 1, 1, 1],\n",
    "    [0, 0, 1, 0, 0, 1, 0, 0],\n",
    "    [0, 0, 0, 0, 0, 0, 0, 0],\n",
    "    [0, 1, 1, 1, 1, 1, 1, 0],\n",
    "    [0, 0, 0, 0, 1, 2, 0, 0]\n",
    "])\n",
    "\n"
   ]
  },
  {
   "cell_type": "code",
   "execution_count": 3,
   "metadata": {},
   "outputs": [
    {
     "data": {
      "image/png": "[encoded data removed]",
      "text/plain": [
       "<Figure size 576x504 with 1 Axes>"
      ]
     },
     "metadata": {},
     "output_type": "display_data"
    }
   ],
   "source": [
    "mz.draw_maze(maze)"
   ]
  },
  {
   "cell_type": "code",
   "execution_count": 4,
   "metadata": {},
   "outputs": [
    {
     "name": "stdout",
     "output_type": "stream",
     "text": [
      "The player states are :\n",
      "{0: (0, 0), 1: (0, 1), 2: (0, 2), 3: (0, 3), 4: (0, 4), 5: (0, 5), 6: (0, 6), 7: (0, 7), 8: (1, 0), 9: (1, 1), 10: (1, 2), 11: (1, 3), 12: (1, 4), 13: (1, 5), 14: (1, 6), 15: (1, 7), 16: (2, 0), 17: (2, 1), 18: (2, 2), 19: (2, 3), 20: (2, 4), 21: (2, 5), 22: (2, 6), 23: (2, 7), 24: (3, 0), 25: (3, 1), 26: (3, 2), 27: (3, 3), 28: (3, 4), 29: (3, 5), 30: (3, 6), 31: (3, 7), 32: (4, 0), 33: (4, 1), 34: (4, 2), 35: (4, 3), 36: (4, 4), 37: (4, 5), 38: (4, 6), 39: (4, 7), 40: (5, 0), 41: (5, 1), 42: (5, 2), 43: (5, 3), 44: (5, 4), 45: (5, 5), 46: (5, 6), 47: (5, 7), 48: (6, 0), 49: (6, 1), 50: (6, 2), 51: (6, 3), 52: (6, 4), 53: (6, 5), 54: (6, 6), 55: (6, 7)}\n",
      "The minotaur states are :\n",
      "{0: (0, 0), 1: (0, 1), 2: (0, 2), 3: (0, 3), 4: (0, 4), 5: (0, 5), 6: (0, 6), 7: (0, 7), 8: (1, 0), 9: (1, 1), 10: (1, 2), 11: (1, 3), 12: (1, 4), 13: (1, 5), 14: (1, 6), 15: (1, 7), 16: (2, 0), 17: (2, 1), 18: (2, 2), 19: (2, 3), 20: (2, 4), 21: (2, 5), 22: (2, 6), 23: (2, 7), 24: (3, 0), 25: (3, 1), 26: (3, 2), 27: (3, 3), 28: (3, 4), 29: (3, 5), 30: (3, 6), 31: (3, 7), 32: (4, 0), 33: (4, 1), 34: (4, 2), 35: (4, 3), 36: (4, 4), 37: (4, 5), 38: (4, 6), 39: (4, 7), 40: (5, 0), 41: (5, 1), 42: (5, 2), 43: (5, 3), 44: (5, 4), 45: (5, 5), 46: (5, 6), 47: (5, 7), 48: (6, 0), 49: (6, 1), 50: (6, 2), 51: (6, 3), 52: (6, 4), 53: (6, 5), 54: (6, 6), 55: (6, 7)}\n",
      "The actions are:\n",
      "{0: (0, 0), 1: (0, -1), 2: (0, 1), 3: (-1, 0), 4: (1, 0)}\n",
      "The mapping of the player states:\n",
      "{(0, 0): 0, (0, 1): 1, (0, 2): 2, (0, 3): 3, (0, 4): 4, (0, 5): 5, (0, 6): 6, (0, 7): 7, (1, 0): 8, (1, 1): 9, (1, 2): 10, (1, 3): 11, (1, 4): 12, (1, 5): 13, (1, 6): 14, (1, 7): 15, (2, 0): 16, (2, 1): 17, (2, 2): 18, (2, 3): 19, (2, 4): 20, (2, 5): 21, (2, 6): 22, (2, 7): 23, (3, 0): 24, (3, 1): 25, (3, 2): 26, (3, 3): 27, (3, 4): 28, (3, 5): 29, (3, 6): 30, (3, 7): 31, (4, 0): 32, (4, 1): 33, (4, 2): 34, (4, 3): 35, (4, 4): 36, (4, 5): 37, (4, 6): 38, (4, 7): 39, (5, 0): 40, (5, 1): 41, (5, 2): 42, (5, 3): 43, (5, 4): 44, (5, 5): 45, (5, 6): 46, (5, 7): 47, (6, 0): 48, (6, 1): 49, (6, 2): 50, (6, 3): 51, (6, 4): 52, (6, 5): 53, (6, 6): 54, (6, 7): 55}\n",
      "The mapping of the minotaur states:\n",
      "{(0, 0): 0, (0, 1): 1, (0, 2): 2, (0, 3): 3, (0, 4): 4, (0, 5): 5, (0, 6): 6, (0, 7): 7, (1, 0): 8, (1, 1): 9, (1, 2): 10, (1, 3): 11, (1, 4): 12, (1, 5): 13, (1, 6): 14, (1, 7): 15, (2, 0): 16, (2, 1): 17, (2, 2): 18, (2, 3): 19, (2, 4): 20, (2, 5): 21, (2, 6): 22, (2, 7): 23, (3, 0): 24, (3, 1): 25, (3, 2): 26, (3, 3): 27, (3, 4): 28, (3, 5): 29, (3, 6): 30, (3, 7): 31, (4, 0): 32, (4, 1): 33, (4, 2): 34, (4, 3): 35, (4, 4): 36, (4, 5): 37, (4, 6): 38, (4, 7): 39, (5, 0): 40, (5, 1): 41, (5, 2): 42, (5, 3): 43, (5, 4): 44, (5, 5): 45, (5, 6): 46, (5, 7): 47, (6, 0): 48, (6, 1): 49, (6, 2): 50, (6, 3): 51, (6, 4): 52, (6, 5): 53, (6, 6): 54, (6, 7): 55}\n",
      "Trans Matrix Player:\n",
      "[[[1. 1. 0. 1. 0.]\n",
      "  [0. 1. 0. 0. 0.]\n",
      "  [0. 0. 0. 0. 0.]\n",
      "  ...\n",
      "  [0. 0. 0. 0. 0.]\n",
      "  [0. 0. 0. 0. 0.]\n",
      "  [0. 0. 0. 0. 0.]]\n",
      "\n",
      " [[0. 0. 1. 0. 0.]\n",
      "  [1. 0. 1. 1. 0.]\n",
      "  [0. 1. 0. 0. 0.]\n",
      "  ...\n",
      "  [0. 0. 0. 0. 0.]\n",
      "  [0. 0. 0. 0. 0.]\n",
      "  [0. 0. 0. 0. 0.]]\n",
      "\n",
      " [[0. 0. 0. 0. 0.]\n",
      "  [0. 0. 0. 0. 0.]\n",
      "  [1. 0. 0. 1. 1.]\n",
      "  ...\n",
      "  [0. 0. 0. 0. 0.]\n",
      "  [0. 0. 0. 0. 0.]\n",
      "  [0. 0. 0. 0. 0.]]\n",
      "\n",
      " ...\n",
      "\n",
      " [[0. 0. 0. 0. 0.]\n",
      "  [0. 0. 0. 0. 0.]\n",
      "  [0. 0. 0. 0. 0.]\n",
      "  ...\n",
      "  [1. 1. 0. 1. 1.]\n",
      "  [0. 1. 0. 0. 0.]\n",
      "  [0. 0. 0. 0. 0.]]\n",
      "\n",
      " [[0. 0. 0. 0. 0.]\n",
      "  [0. 0. 0. 0. 0.]\n",
      "  [0. 0. 0. 0. 0.]\n",
      "  ...\n",
      "  [0. 0. 1. 0. 0.]\n",
      "  [1. 0. 0. 1. 1.]\n",
      "  [0. 1. 0. 0. 0.]]\n",
      "\n",
      " [[0. 0. 0. 0. 0.]\n",
      "  [0. 0. 0. 0. 0.]\n",
      "  [0. 0. 0. 0. 0.]\n",
      "  ...\n",
      "  [0. 0. 0. 0. 0.]\n",
      "  [0. 0. 1. 0. 0.]\n",
      "  [1. 0. 1. 0. 1.]]]\n",
      "Trans Matrix Minotaur:\n",
      "[[[1. 1. 0. 1. 0.]\n",
      "  [0. 1. 0. 0. 0.]\n",
      "  [0. 0. 0. 0. 0.]\n",
      "  ...\n",
      "  [0. 0. 0. 0. 0.]\n",
      "  [0. 0. 0. 0. 0.]\n",
      "  [0. 0. 0. 0. 0.]]\n",
      "\n",
      " [[0. 0. 1. 0. 0.]\n",
      "  [1. 0. 0. 1. 0.]\n",
      "  [0. 1. 0. 0. 0.]\n",
      "  ...\n",
      "  [0. 0. 0. 0. 0.]\n",
      "  [0. 0. 0. 0. 0.]\n",
      "  [0. 0. 0. 0. 0.]]\n",
      "\n",
      " [[0. 0. 0. 0. 0.]\n",
      "  [0. 0. 1. 0. 0.]\n",
      "  [1. 0. 0. 1. 0.]\n",
      "  ...\n",
      "  [0. 0. 0. 0. 0.]\n",
      "  [0. 0. 0. 0. 0.]\n",
      "  [0. 0. 0. 0. 0.]]\n",
      "\n",
      " ...\n",
      "\n",
      " [[0. 0. 0. 0. 0.]\n",
      "  [0. 0. 0. 0. 0.]\n",
      "  [0. 0. 0. 0. 0.]\n",
      "  ...\n",
      "  [1. 0. 0. 0. 1.]\n",
      "  [0. 1. 0. 0. 0.]\n",
      "  [0. 0. 0. 0. 0.]]\n",
      "\n",
      " [[0. 0. 0. 0. 0.]\n",
      "  [0. 0. 0. 0. 0.]\n",
      "  [0. 0. 0. 0. 0.]\n",
      "  ...\n",
      "  [0. 0. 1. 0. 0.]\n",
      "  [1. 0. 0. 0. 1.]\n",
      "  [0. 1. 0. 0. 0.]]\n",
      "\n",
      " [[0. 0. 0. 0. 0.]\n",
      "  [0. 0. 0. 0. 0.]\n",
      "  [0. 0. 0. 0. 0.]\n",
      "  ...\n",
      "  [0. 0. 0. 0. 0.]\n",
      "  [0. 0. 1. 0. 0.]\n",
      "  [1. 0. 1. 0. 1.]]]\n"
     ]
    }
   ],
   "source": [
    "env = mz.Maze(maze)\n",
    "env.show()"
   ]
  },
  {
   "cell_type": "code",
   "execution_count": 5,
   "metadata": {
    "scrolled": true
   },
   "outputs": [
    {
     "data": {
      "image/png": "[encoded data removed]",
      "text/plain": [
       "<Figure size 576x504 with 1 Axes>"
      ]
     },
     "metadata": {},
     "output_type": "display_data"
    }
   ],
   "source": [
    "# Finite horizon\n",
    "horizon = 20\n",
    "# Solve the MDP problem with dynamic programming \n",
    "V, policy= mz.dynamic_programming(env,horizon);\n",
    "\n",
    "method = 'DynProg'\n",
    "start_player = (0,0)\n",
    "start_minotaur = (6, 5)\n",
    "path_player, path_minotaur = env.simulate(start_player, start_minotaur, policy, method)\n",
    "\n",
    "mz.animate_solution(maze, path_player, path_minotaur)"
   ]
  },
  {
   "cell_type": "code",
   "execution_count": null,
   "metadata": {},
   "outputs": [],
   "source": []
  },
  {
   "cell_type": "code",
   "execution_count": null,
   "metadata": {},
   "outputs": [],
   "source": []
  },
  {
   "cell_type": "code",
   "execution_count": null,
   "metadata": {},
   "outputs": [],
   "source": []
  },
  {
   "cell_type": "code",
   "execution_count": null,
   "metadata": {},
   "outputs": [],
   "source": []
  },
  {
   "cell_type": "code",
   "execution_count": null,
   "metadata": {},
   "outputs": [],
   "source": []
  },
  {
   "cell_type": "code",
   "execution_count": null,
   "metadata": {},
   "outputs": [],
   "source": []
  }
 ],
 "metadata": {
  "kernelspec": {
   "display_name": "Python 3",
   "language": "python",
   "name": "python3"
  },
  "language_info": {
   "codemirror_mode": {
    "name": "ipython",
    "version": 3
   },
   "file_extension": ".py",
   "mimetype": "text/x-python",
   "name": "python",
   "nbconvert_exporter": "python",
   "pygments_lexer": "ipython3",
   "version": "3.7.5"
  }
 },
 "nbformat": 4,
 "nbformat_minor": 2
}
